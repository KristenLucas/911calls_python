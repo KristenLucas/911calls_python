{
 "cells": [
  {
   "cell_type": "markdown",
   "metadata": {},
   "source": [
    "# Metro Nashville Disaster Analysis"
   ]
  },
  {
   "cell_type": "markdown",
   "metadata": {},
   "source": [
    "#### Import Libraries"
   ]
  },
  {
   "cell_type": "code",
   "execution_count": 2,
   "metadata": {},
   "outputs": [],
   "source": [
    "import pandas as pd\n",
    "import numpy as np\n",
    "import matplotlib.pyplot as plt\n",
    "import seaborn as sns"
   ]
  },
  {
   "cell_type": "markdown",
   "metadata": {},
   "source": [
    "#### Formatting"
   ]
  },
  {
   "cell_type": "code",
   "execution_count": 3,
   "metadata": {},
   "outputs": [],
   "source": [
    "%matplotlib inline"
   ]
  },
  {
   "cell_type": "markdown",
   "metadata": {},
   "source": [
    "#### Load Data"
   ]
  },
  {
   "cell_type": "code",
   "execution_count": 9,
   "metadata": {},
   "outputs": [],
   "source": [
    "may3_911calls = pd.read_csv('../data/911_Phone Calls_Derecho_050320 050420.csv')\n",
    "march3_911calls = pd.read_csv('../data/911_Phone_Calls_Tornado_030320.csv')\n",
    "may3_dispatchdata = pd.read_csv('../data/Computer Aided Dispatch Data_Derecho Incidents 050320-050420.csv', skiprows=3)\n",
    "march3_dispatchdata = pd.read_csv('../data/Computer Aided Dispatch Data_Tornado Incidents 030320.csv', skiprows=3)"
   ]
  },
  {
   "cell_type": "code",
   "execution_count": 14,
   "metadata": {},
   "outputs": [
    {
     "data": {
      "text/plain": [
       "<bound method NDFrame.tail of      Seizure DateTime CallTypeId  ALI Latitude  ALI Longitude  \\\n",
       "0      5/3/2020 16:30  911 Calls     36.247802     -86.716847   \n",
       "1      5/3/2020 16:30  911 Calls     36.143108     -86.800621   \n",
       "2      5/3/2020 16:30  911 Calls     36.100516     -87.056329   \n",
       "3      5/3/2020 16:30  911 Calls     36.130021     -86.927819   \n",
       "4      5/3/2020 16:31  911 Calls     36.142380     -86.881882   \n",
       "...               ...        ...           ...            ...   \n",
       "1544    5/4/2020 0:18  911 Calls     36.131694     -86.770535   \n",
       "1545    5/4/2020 0:22  911 Calls     36.042237     -86.743455   \n",
       "1546    5/4/2020 0:25  911 Calls     36.077664     -86.655607   \n",
       "1547    5/4/2020 0:29  911 Calls     36.024706     -86.743562   \n",
       "1548    5/4/2020 0:29  911 Calls           NaN            NaN   \n",
       "\n",
       "                       Cell Tower Address  \n",
       "0                         WIRELESS CALLER  \n",
       "1                     1161 21ST AV S - SE  \n",
       "2                   8013 C MCCRORY LN - N  \n",
       "3                      5758 RIVER RD - SW  \n",
       "4                    3744B ANNEX AVE - SE  \n",
       "...                                   ...  \n",
       "1544         1823-C 12TH AV - SECTOR SE S  \n",
       "1545     5244-C EDMONSON PIKE - SECTOR SE  \n",
       "1546  2747-B MURFREESBORO PKE - SECTOR NW  \n",
       "1547               302 SUMMIT VIEW DR - E  \n",
       "1548                2014 QUAIL HOLLOW CIR  \n",
       "\n",
       "[1549 rows x 5 columns]>"
      ]
     },
     "execution_count": 14,
     "metadata": {},
     "output_type": "execute_result"
    }
   ],
   "source": [
    "may3_911calls.tail"
   ]
  },
  {
   "cell_type": "code",
   "execution_count": null,
   "metadata": {},
   "outputs": [],
   "source": []
  }
 ],
 "metadata": {
  "kernelspec": {
   "display_name": "Python 3",
   "language": "python",
   "name": "python3"
  },
  "language_info": {
   "codemirror_mode": {
    "name": "ipython",
    "version": 3
   },
   "file_extension": ".py",
   "mimetype": "text/x-python",
   "name": "python",
   "nbconvert_exporter": "python",
   "pygments_lexer": "ipython3",
   "version": "3.8.3"
  }
 },
 "nbformat": 4,
 "nbformat_minor": 4
}
